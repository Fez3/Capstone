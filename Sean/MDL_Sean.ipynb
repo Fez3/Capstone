{
 "cells": [
  {
   "cell_type": "markdown",
   "metadata": {},
   "source": [
    "# Feature Engineering"
   ]
  },
  {
   "cell_type": "code",
   "execution_count": 10,
   "metadata": {},
   "outputs": [],
   "source": [
    "import pandas as pd\n",
    "import numpy as np\n",
    "from pandas.api.types import is_numeric_dtype\n",
    "from sklearn.model_selection import GridSearchCV\n",
    "from sklearn.model_selection import train_test_split\n",
    "from sklearn import preprocessing\n",
    "from sklearn import linear_model\n",
    "from sklearn.svm import SVC\n",
    "from sklearn.metrics import mean_squared_error\n",
    "from sklearn.metrics import confusion_matrix\n",
    "from sklearn.metrics import roc_curve\n",
    "import xgboost as xgb\n",
    "from math import sqrt\n",
    "import matplotlib.pyplot as plt\n",
    "%matplotlib inline"
   ]
  },
  {
   "cell_type": "code",
   "execution_count": 2,
   "metadata": {},
   "outputs": [],
   "source": [
    "# load dataframe\n",
    "# loans = pd.read_csv('./data/accepted_imputed.csv', low_memory=False)\n",
    "# loans = loans.assign(issue_d=pd.to_datetime(loans['issue_d'], format='%Y-%m-%d'))\n",
    "\n",
    "loans = pd.read_csv('./data/final.df.csv', low_memory=False)\n",
    "\n",
    "loans = loans[(loans['loan_status'] == 'Fully Paid') | (loans['loan_status'] == 'Charged Off') | (loans['loan_status'] == 'Default')]\n",
    "loans = loans.assign(paid_flag = np.where(loans['loan_status'].str.contains('Fully Paid'), 1, 0))\n",
    "\n",
    "# loans = loans.drop(['loan_status', 'last_fico_range_high', 'last_fico_range_low', 'policy_code'], axis=1) # it depends on loan_status\n",
    "loans = loans.drop(['loan_status', 'last_fico_range_high', 'last_fico_range_low'], axis=1)"
   ]
  },
  {
   "cell_type": "code",
   "execution_count": 107,
   "metadata": {},
   "outputs": [
    {
     "data": {
      "text/plain": [
       "1    107725\n",
       "0     92275\n",
       "Name: paid_flag, dtype: int64"
      ]
     },
     "execution_count": 107,
     "metadata": {},
     "output_type": "execute_result"
    }
   ],
   "source": [
    "# under sampling\n",
    "# loans_paid = loans[loans['paid_flag'] == 1].sample(int(len(loans) * 0.2))\n",
    "# loans_default = loans[loans['paid_flag'] == 0]\n",
    "\n",
    "# loans = pd.concat([loans_paid, loans_default])\n",
    "loans['paid_flag'].value_counts()"
   ]
  },
  {
   "cell_type": "code",
   "execution_count": null,
   "metadata": {},
   "outputs": [],
   "source": [
    "# select only numeric variables\n",
    "target_col = []\n",
    "col_null_cnt = loans.isnull().sum().sort_values(ascending=False)\n",
    "for k, v in col_null_cnt.iteritems():\n",
    "    if v == 0:\n",
    "        if is_numeric_dtype(loans[k].dtype) and k != 'paid_flag':\n",
    "            target_col = target_col + [k]\n",
    "\n",
    "# loans = loans[target_col]"
   ]
  },
  {
   "cell_type": "code",
   "execution_count": 3,
   "metadata": {},
   "outputs": [],
   "source": [
    "# dummify\n",
    "target = loans['paid_flag']\n",
    "loans = loans.drop(['paid_flag'], axis=1)\n",
    "\n",
    "loans = pd.get_dummies(loans, drop_first=True)\n",
    "loans_norm = preprocessing.normalize(loans)\n",
    "\n",
    "# seprate training & test set\n",
    "X_train, X_test, Y_train, Y_test = train_test_split(loans_norm, target, shuffle=True, test_size=0.2)"
   ]
  },
  {
   "cell_type": "markdown",
   "metadata": {},
   "source": [
    "# Modeling"
   ]
  },
  {
   "cell_type": "markdown",
   "metadata": {},
   "source": [
    "### 1. Logistic Regression"
   ]
  },
  {
   "cell_type": "code",
   "execution_count": 8,
   "metadata": {},
   "outputs": [
    {
     "name": "stdout",
     "output_type": "stream",
     "text": [
      "best hyperparameter\n",
      "{'C': 3593.813663804626, 'class_weight': None, 'dual': False, 'fit_intercept': True, 'intercept_scaling': 1, 'l1_ratio': None, 'max_iter': 100, 'multi_class': 'warn', 'n_jobs': None, 'penalty': 'l1', 'random_state': None, 'solver': 'liblinear', 'tol': 0.0001, 'verbose': 0, 'warm_start': False}\n",
      "\n",
      "best cross-validation score: 0.9959875\n",
      "\n",
      "Root Mean Square Error: 0.06999999999999999\n",
      "\n",
      "Accuracy: 0.9951\n",
      "\n",
      "[[18428   164]\n",
      " [   32 21376]]\n"
     ]
    }
   ],
   "source": [
    "logit = linear_model.LogisticRegression(solver='liblinear')\n",
    "\n",
    "param = dict(C=np.logspace(0, 4, 10), penalty=['l1', 'l2'])\n",
    "\n",
    "logit_grid = GridSearchCV(logit, param, cv=5, verbose=0)\n",
    "\n",
    "best_mdl = logit_grid.fit(X_train, Y_train)\n",
    "\n",
    "# best hyperparameter\n",
    "print('best hyperparameter')\n",
    "print(best_mdl.best_estimator_.get_params())\n",
    "print()\n",
    "\n",
    "# best cross-validation score\n",
    "print('best cross-validation score: ' + str(best_mdl.score(X_train, Y_train)))\n",
    "print()\n",
    "\n",
    "Y_pred = logit_grid.predict(X_test)\n",
    "\n",
    "rmse = sqrt(mean_squared_error(Y_test, Y_pred))\n",
    "\n",
    "print('Root Mean Square Error: ' + str(rmse))\n",
    "print()\n",
    "\n",
    "print('Accuracy: ' + str(np.mean(Y_test == Y_pred)))\n",
    "print()\n",
    "\n",
    "print(confusion_matrix(Y_test, Y_pred))"
   ]
  },
  {
   "cell_type": "code",
   "execution_count": 11,
   "metadata": {},
   "outputs": [
    {
     "data": {
      "text/plain": [
       "<matplotlib.legend.Legend at 0x1a14a26da0>"
      ]
     },
     "execution_count": 11,
     "metadata": {},
     "output_type": "execute_result"
    },
    {
     "data": {
      "image/png": "[encoded data removed]",
      "text/plain": [
       "<Figure size 432x288 with 1 Axes>"
      ]
     },
     "metadata": {
      "needs_background": "light"
     },
     "output_type": "display_data"
    }
   ],
   "source": [
    "# visualize ROC Curve\n",
    "fpr, tpr, thresholds = roc_curve(Y_test, Y_pred)\n",
    "\n",
    "plt.plot(fpr, tpr, label='ROC curve')\n",
    "plt.plot([0, 1], [0, 1], 'k--', label='Random Guess')\n",
    "plt.xlabel('False Positive Rate')\n",
    "plt.ylabel('True Positive Rate')\n",
    "plt.title('ROC Curve')\n",
    "plt.xlim([-0.02, 1])\n",
    "plt.ylim([0, 1.02])\n",
    "plt.legend(loc='lower right')"
   ]
  },
  {
   "cell_type": "markdown",
   "metadata": {},
   "source": [
    "### 2. Support Vector Classification "
   ]
  },
  {
   "cell_type": "code",
   "execution_count": null,
   "metadata": {},
   "outputs": [],
   "source": [
    "svc_mdl = SVC()\n",
    "\n",
    "param = dict(kernel=['rbf', 'linear'])\n",
    "\n",
    "svc_grid = GridSearchCV(svc_mdl, param, cv=5, verbose=0)\n",
    "\n",
    "best_mdl = svc_grid.fit(X_train, Y_train)\n",
    "\n",
    "# best hyperparameter\n",
    "print('best hyperparameter')\n",
    "print(best_mdl.best_estimator_.get_params())\n",
    "print()\n",
    "\n",
    "# best cross-validation score\n",
    "print('best cross-validation score: ' + str(best_mdl.score(X_train, Y_train)))\n",
    "print()\n",
    "\n",
    "Y_pred = svc_grid.predict(X_test)\n",
    "\n",
    "rmse = sqrt(mean_squared_error(Y_test, Y_pred))\n",
    "\n",
    "print('Root Mean Square Error: ' + str(rmse))\n",
    "print()\n",
    "\n",
    "print('Accuracy: ' + str(np.mean(Y_test == Y_pred)))\n",
    "print()\n",
    "\n",
    "print(confusion_matrix(Y_test, Y_pred))"
   ]
  },
  {
   "cell_type": "markdown",
   "metadata": {},
   "source": [
    "### 3. XGBoost"
   ]
  },
  {
   "cell_type": "code",
   "execution_count": 12,
   "metadata": {},
   "outputs": [
    {
     "name": "stdout",
     "output_type": "stream",
     "text": [
      "best hyperparameter\n",
      "{'base_score': 0.5, 'booster': 'gbtree', 'colsample_bylevel': 1, 'colsample_bynode': 1, 'colsample_bytree': 1, 'gamma': 0, 'learning_rate': 0.1, 'max_delta_step': 0, 'max_depth': 6, 'min_child_weight': 1, 'missing': None, 'n_estimators': 100, 'n_jobs': 1, 'nthread': None, 'objective': 'binary:logistic', 'random_state': 0, 'reg_alpha': 0, 'reg_lambda': 1, 'scale_pos_weight': 1, 'seed': None, 'silent': None, 'subsample': 1, 'verbosity': 1}\n",
      "\n",
      "best cross-validation score: 0.99605625\n",
      "\n",
      "Root Mean Square Error: 0.07681145747868608\n",
      "\n",
      "Accuracy: 0.9941\n",
      "\n",
      "[[18360   232]\n",
      " [    4 21404]]\n"
     ]
    }
   ],
   "source": [
    "xgb_mdl = xgb.XGBClassifier()\n",
    "\n",
    "param = dict(max_depth=[3,6])\n",
    "\n",
    "xgb_grid = GridSearchCV(xgb_mdl, param, n_jobs=5, cv=5, verbose=0)\n",
    "\n",
    "best_mdl = xgb_grid.fit(X_train, Y_train)\n",
    "\n",
    "# best hyperparameter\n",
    "print('best hyperparameter')\n",
    "print(best_mdl.best_estimator_.get_params())\n",
    "print()\n",
    "\n",
    "# best cross-validation score\n",
    "print('best cross-validation score: ' + str(best_mdl.score(X_train, Y_train)))\n",
    "print()\n",
    "\n",
    "Y_pred = xgb_grid.predict(X_test)\n",
    "\n",
    "rmse = sqrt(mean_squared_error(Y_test, Y_pred))\n",
    "\n",
    "print('Root Mean Square Error: ' + str(rmse))\n",
    "print()\n",
    "\n",
    "print('Accuracy: ' + str(np.mean(Y_test == Y_pred)))\n",
    "print()\n",
    "\n",
    "print(confusion_matrix(Y_test, Y_pred))"
   ]
  },
  {
   "cell_type": "markdown",
   "metadata": {},
   "source": [
    "### 4. Deep Learning (Tensorflow)"
   ]
  },
  {
   "cell_type": "code",
   "execution_count": 10,
   "metadata": {},
   "outputs": [],
   "source": [
    "import tensorflow as tf"
   ]
  },
  {
   "cell_type": "code",
   "execution_count": 13,
   "metadata": {},
   "outputs": [],
   "source": [
    "tf.reset_default_graph()\n",
    "\n",
    "dimension = X_train.shape[1]\n",
    "\n",
    "X = tf.placeholder(dtype=tf.float32, shape=[None, dimension])\n",
    "Y = tf.placeholder(dtype=tf.float32, shape=[None, 1])\n",
    "W = tf.Variable(tf.random_normal(shape=[dimension, 1]), dtype=tf.float32)\n",
    "b = tf.Variable(tf.random_normal(shape=[1, 1]), dtype=tf.float32)\n",
    "\n",
    "mod = tf.matmul(X, W) + b\n",
    "\n",
    "loss = tf.reduce_mean(tf.nn.sigmoid_cross_entropy_with_logits(logits=mod, labels=Y))\n",
    "opt = tf.train.GradientDescentOptimizer(learning_rate=0.005)\n",
    "goal = opt.minimize(loss)\n",
    "\n",
    "prediction = tf.round(tf.sigmoid(mod))\n",
    "correct = tf.cast(tf.equal(prediction, Y), dtype=tf.float32)\n",
    "accuracy = tf.reduce_mean(correct)"
   ]
  },
  {
   "cell_type": "code",
   "execution_count": 14,
   "metadata": {},
   "outputs": [
    {
     "name": "stdout",
     "output_type": "stream",
     "text": [
      "epoch:  500 loss: 0.732912 train_acc: 0.512969 test_acc: 0.513750\n",
      "epoch: 1000 loss: 0.728505 train_acc: 0.523313 test_acc: 0.524250\n",
      "epoch: 1500 loss: 0.722849 train_acc: 0.525825 test_acc: 0.525850\n",
      "epoch: 2000 loss: 0.691261 train_acc: 0.527669 test_acc: 0.527275\n",
      "epoch: 2500 loss: 0.724209 train_acc: 0.529688 test_acc: 0.528000\n",
      "epoch: 3000 loss: 0.710634 train_acc: 0.531219 test_acc: 0.529150\n",
      "epoch: 3500 loss: 0.688719 train_acc: 0.532694 test_acc: 0.530575\n",
      "epoch: 4000 loss: 0.713874 train_acc: 0.534725 test_acc: 0.532750\n",
      "epoch: 4500 loss: 0.689381 train_acc: 0.537138 test_acc: 0.534200\n",
      "epoch: 5000 loss: 0.700802 train_acc: 0.539237 test_acc: 0.536275\n"
     ]
    },
    {
     "ename": "KeyboardInterrupt",
     "evalue": "",
     "output_type": "error",
     "traceback": [
      "\u001b[0;31m---------------------------------------------------------------------------\u001b[0m",
      "\u001b[0;31mKeyboardInterrupt\u001b[0m                         Traceback (most recent call last)",
      "\u001b[0;32m<ipython-input-14-e437e31320b0>\u001b[0m in \u001b[0;36m<module>\u001b[0;34m\u001b[0m\n\u001b[1;32m     21\u001b[0m         \u001b[0mtemp_loss\u001b[0m \u001b[0;34m=\u001b[0m \u001b[0msess\u001b[0m\u001b[0;34m.\u001b[0m\u001b[0mrun\u001b[0m\u001b[0;34m(\u001b[0m\u001b[0mloss\u001b[0m\u001b[0;34m,\u001b[0m \u001b[0mfeed_dict\u001b[0m\u001b[0;34m=\u001b[0m\u001b[0;34m{\u001b[0m\u001b[0mX\u001b[0m\u001b[0;34m:\u001b[0m \u001b[0mbatch_train_X\u001b[0m\u001b[0;34m,\u001b[0m \u001b[0mY\u001b[0m\u001b[0;34m:\u001b[0m \u001b[0mbatch_train_y\u001b[0m\u001b[0;34m}\u001b[0m\u001b[0;34m)\u001b[0m\u001b[0;34m\u001b[0m\u001b[0;34m\u001b[0m\u001b[0m\n\u001b[1;32m     22\u001b[0m \u001b[0;34m\u001b[0m\u001b[0m\n\u001b[0;32m---> 23\u001b[0;31m         \u001b[0mtemp_train_acc\u001b[0m \u001b[0;34m=\u001b[0m \u001b[0msess\u001b[0m\u001b[0;34m.\u001b[0m\u001b[0mrun\u001b[0m\u001b[0;34m(\u001b[0m\u001b[0maccuracy\u001b[0m\u001b[0;34m,\u001b[0m \u001b[0mfeed_dict\u001b[0m\u001b[0;34m=\u001b[0m\u001b[0;34m{\u001b[0m\u001b[0mX\u001b[0m\u001b[0;34m:\u001b[0m \u001b[0mX_train\u001b[0m\u001b[0;34m,\u001b[0m \u001b[0mY\u001b[0m\u001b[0;34m:\u001b[0m \u001b[0mnp\u001b[0m\u001b[0;34m.\u001b[0m\u001b[0mmatrix\u001b[0m\u001b[0;34m(\u001b[0m\u001b[0mY_train\u001b[0m\u001b[0;34m)\u001b[0m\u001b[0;34m.\u001b[0m\u001b[0mT\u001b[0m\u001b[0;34m}\u001b[0m\u001b[0;34m)\u001b[0m\u001b[0;34m\u001b[0m\u001b[0;34m\u001b[0m\u001b[0m\n\u001b[0m\u001b[1;32m     24\u001b[0m         \u001b[0mtemp_test_acc\u001b[0m \u001b[0;34m=\u001b[0m \u001b[0msess\u001b[0m\u001b[0;34m.\u001b[0m\u001b[0mrun\u001b[0m\u001b[0;34m(\u001b[0m\u001b[0maccuracy\u001b[0m\u001b[0;34m,\u001b[0m \u001b[0mfeed_dict\u001b[0m\u001b[0;34m=\u001b[0m\u001b[0;34m{\u001b[0m\u001b[0mX\u001b[0m\u001b[0;34m:\u001b[0m \u001b[0mX_test\u001b[0m\u001b[0;34m,\u001b[0m \u001b[0mY\u001b[0m\u001b[0;34m:\u001b[0m \u001b[0mnp\u001b[0m\u001b[0;34m.\u001b[0m\u001b[0mmatrix\u001b[0m\u001b[0;34m(\u001b[0m\u001b[0mY_test\u001b[0m\u001b[0;34m)\u001b[0m\u001b[0;34m.\u001b[0m\u001b[0mT\u001b[0m\u001b[0;34m}\u001b[0m\u001b[0;34m)\u001b[0m\u001b[0;34m\u001b[0m\u001b[0;34m\u001b[0m\u001b[0m\n\u001b[1;32m     25\u001b[0m \u001b[0;34m\u001b[0m\u001b[0m\n",
      "\u001b[0;32m~/anaconda3/lib/python3.7/site-packages/tensorflow_core/python/client/session.py\u001b[0m in \u001b[0;36mrun\u001b[0;34m(self, fetches, feed_dict, options, run_metadata)\u001b[0m\n\u001b[1;32m    954\u001b[0m     \u001b[0;32mtry\u001b[0m\u001b[0;34m:\u001b[0m\u001b[0;34m\u001b[0m\u001b[0;34m\u001b[0m\u001b[0m\n\u001b[1;32m    955\u001b[0m       result = self._run(None, fetches, feed_dict, options_ptr,\n\u001b[0;32m--> 956\u001b[0;31m                          run_metadata_ptr)\n\u001b[0m\u001b[1;32m    957\u001b[0m       \u001b[0;32mif\u001b[0m \u001b[0mrun_metadata\u001b[0m\u001b[0;34m:\u001b[0m\u001b[0;34m\u001b[0m\u001b[0;34m\u001b[0m\u001b[0m\n\u001b[1;32m    958\u001b[0m         \u001b[0mproto_data\u001b[0m \u001b[0;34m=\u001b[0m \u001b[0mtf_session\u001b[0m\u001b[0;34m.\u001b[0m\u001b[0mTF_GetBuffer\u001b[0m\u001b[0;34m(\u001b[0m\u001b[0mrun_metadata_ptr\u001b[0m\u001b[0;34m)\u001b[0m\u001b[0;34m\u001b[0m\u001b[0;34m\u001b[0m\u001b[0m\n",
      "\u001b[0;32m~/anaconda3/lib/python3.7/site-packages/tensorflow_core/python/client/session.py\u001b[0m in \u001b[0;36m_run\u001b[0;34m(self, handle, fetches, feed_dict, options, run_metadata)\u001b[0m\n\u001b[1;32m   1147\u001b[0m             \u001b[0mfeed_handles\u001b[0m\u001b[0;34m[\u001b[0m\u001b[0msubfeed_t\u001b[0m\u001b[0;34m]\u001b[0m \u001b[0;34m=\u001b[0m \u001b[0msubfeed_val\u001b[0m\u001b[0;34m\u001b[0m\u001b[0;34m\u001b[0m\u001b[0m\n\u001b[1;32m   1148\u001b[0m           \u001b[0;32melse\u001b[0m\u001b[0;34m:\u001b[0m\u001b[0;34m\u001b[0m\u001b[0;34m\u001b[0m\u001b[0m\n\u001b[0;32m-> 1149\u001b[0;31m             \u001b[0mnp_val\u001b[0m \u001b[0;34m=\u001b[0m \u001b[0mnp\u001b[0m\u001b[0;34m.\u001b[0m\u001b[0masarray\u001b[0m\u001b[0;34m(\u001b[0m\u001b[0msubfeed_val\u001b[0m\u001b[0;34m,\u001b[0m \u001b[0mdtype\u001b[0m\u001b[0;34m=\u001b[0m\u001b[0msubfeed_dtype\u001b[0m\u001b[0;34m)\u001b[0m\u001b[0;34m\u001b[0m\u001b[0;34m\u001b[0m\u001b[0m\n\u001b[0m\u001b[1;32m   1150\u001b[0m \u001b[0;34m\u001b[0m\u001b[0m\n\u001b[1;32m   1151\u001b[0m           if (not is_tensor_handle_feed and\n",
      "\u001b[0;32m~/anaconda3/lib/python3.7/site-packages/numpy/core/_asarray.py\u001b[0m in \u001b[0;36masarray\u001b[0;34m(a, dtype, order)\u001b[0m\n\u001b[1;32m     83\u001b[0m \u001b[0;34m\u001b[0m\u001b[0m\n\u001b[1;32m     84\u001b[0m     \"\"\"\n\u001b[0;32m---> 85\u001b[0;31m     \u001b[0;32mreturn\u001b[0m \u001b[0marray\u001b[0m\u001b[0;34m(\u001b[0m\u001b[0ma\u001b[0m\u001b[0;34m,\u001b[0m \u001b[0mdtype\u001b[0m\u001b[0;34m,\u001b[0m \u001b[0mcopy\u001b[0m\u001b[0;34m=\u001b[0m\u001b[0;32mFalse\u001b[0m\u001b[0;34m,\u001b[0m \u001b[0morder\u001b[0m\u001b[0;34m=\u001b[0m\u001b[0morder\u001b[0m\u001b[0;34m)\u001b[0m\u001b[0;34m\u001b[0m\u001b[0;34m\u001b[0m\u001b[0m\n\u001b[0m\u001b[1;32m     86\u001b[0m \u001b[0;34m\u001b[0m\u001b[0m\n\u001b[1;32m     87\u001b[0m \u001b[0;34m\u001b[0m\u001b[0m\n",
      "\u001b[0;31mKeyboardInterrupt\u001b[0m: "
     ]
    }
   ],
   "source": [
    "loss_trace = []\n",
    "train_acc = []\n",
    "test_acc = []\n",
    "\n",
    "batch_size = 500\n",
    "iter_num = 50000\n",
    "\n",
    "init = tf.global_variables_initializer()\n",
    "\n",
    "Y_train = Y_train.reset_index(drop=True)\n",
    "\n",
    "with tf.Session() as sess:\n",
    "    init.run()\n",
    "    for epoch in range(iter_num):\n",
    "        batch_index = np.random.choice(len(X_train), size=batch_size)\n",
    "\n",
    "        batch_train_X = X_train[batch_index]\n",
    "        batch_train_y = np.matrix(Y_train[batch_index]).T\n",
    "        \n",
    "        sess.run(goal, feed_dict={X: batch_train_X, Y: batch_train_y})\n",
    "        temp_loss = sess.run(loss, feed_dict={X: batch_train_X, Y: batch_train_y})\n",
    "\n",
    "        temp_train_acc = sess.run(accuracy, feed_dict={X: X_train, Y: np.matrix(Y_train).T})\n",
    "        temp_test_acc = sess.run(accuracy, feed_dict={X: X_test, Y: np.matrix(Y_test).T})\n",
    "\n",
    "        loss_trace.append(temp_loss)\n",
    "        train_acc.append(temp_train_acc)\n",
    "        test_acc.append(temp_test_acc)\n",
    "\n",
    "        if (epoch + 1) % 500 == 0:\n",
    "            print('epoch: {:4d} loss: {:5f} train_acc: {:5f} test_acc: {:5f}'.format(epoch + 1, temp_loss, temp_train_acc, temp_test_acc))"
   ]
  }
 ],
 "metadata": {
  "kernelspec": {
   "display_name": "Python 3",
   "language": "python",
   "name": "python3"
  },
  "language_info": {
   "codemirror_mode": {
    "name": "ipython",
    "version": 3
   },
   "file_extension": ".py",
   "mimetype": "text/x-python",
   "name": "python",
   "nbconvert_exporter": "python",
   "pygments_lexer": "ipython3",
   "version": "3.7.3"
  }
 },
 "nbformat": 4,
 "nbformat_minor": 2
}
