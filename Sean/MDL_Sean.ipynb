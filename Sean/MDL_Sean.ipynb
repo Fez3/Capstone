{
 "cells": [
  {
   "cell_type": "markdown",
   "metadata": {},
   "source": [
    "# Feature Engineering"
   ]
  },
  {
   "cell_type": "code",
   "execution_count": 6,
   "metadata": {},
   "outputs": [],
   "source": [
    "import pandas as pd\n",
    "import numpy as np\n",
    "from pandas.api.types import is_numeric_dtype\n",
    "from sklearn.model_selection import GridSearchCV\n",
    "from sklearn.model_selection import train_test_split\n",
    "from sklearn import preprocessing\n",
    "from sklearn import linear_model\n",
    "from sklearn.svm import SVC\n",
    "from sklearn.ensemble import RandomForestClassifier\n",
    "from sklearn.metrics import mean_squared_error\n",
    "from sklearn.metrics import confusion_matrix\n",
    "from sklearn.metrics import roc_curve\n",
    "import xgboost as xgb\n",
    "from math import sqrt\n",
    "import matplotlib.pyplot as plt\n",
    "%matplotlib inline"
   ]
  },
  {
   "cell_type": "code",
   "execution_count": 10,
   "metadata": {},
   "outputs": [],
   "source": [
    "# load dataframe\n",
    "# loans = pd.read_csv('./data/accepted_imputed.csv', low_memory=False)\n",
    "# loans = loans.assign(issue_d=pd.to_datetime(loans['issue_d'], format='%Y-%m-%d'))\n",
    "\n",
    "loans = pd.read_csv('./data/final.df.csv', low_memory=False)\n",
    "\n",
    "loans = loans[(loans['loan_status'] == 'Fully Paid') | (loans['loan_status'] == 'Charged Off') | (loans['loan_status'] == 'Default')]\n",
    "loans = loans.assign(paid_flag = np.where(loans['loan_status'].str.contains('Fully Paid'), 1, 0))\n",
    "\n",
    "# loans = loans.drop(['loan_status', 'last_fico_range_high', 'last_fico_range_low', 'policy_code'], axis=1) # it depends on loan_status\n",
    "loans = loans.drop(['loan_status', 'last_fico_range_high', 'last_fico_range_low', 'loan_amnt', 'int_rate'], axis=1)"
   ]
  },
  {
   "cell_type": "code",
   "execution_count": 11,
   "metadata": {},
   "outputs": [
    {
     "data": {
      "text/plain": [
       "1    107725\n",
       "0     92275\n",
       "Name: paid_flag, dtype: int64"
      ]
     },
     "execution_count": 11,
     "metadata": {},
     "output_type": "execute_result"
    }
   ],
   "source": [
    "# under sampling\n",
    "# loans_paid = loans[loans['paid_flag'] == 1].sample(int(len(loans) * 0.2))\n",
    "# loans_default = loans[loans['paid_flag'] == 0]\n",
    "\n",
    "# loans = pd.concat([loans_paid, loans_default])\n",
    "loans['paid_flag'].value_counts()"
   ]
  },
  {
   "cell_type": "code",
   "execution_count": null,
   "metadata": {},
   "outputs": [],
   "source": [
    "# select only numeric variables\n",
    "target_col = []\n",
    "col_null_cnt = loans.isnull().sum().sort_values(ascending=False)\n",
    "for k, v in col_null_cnt.iteritems():\n",
    "    if v == 0:\n",
    "        if is_numeric_dtype(loans[k].dtype) and k != 'paid_flag':\n",
    "            target_col = target_col + [k]\n",
    "\n",
    "# loans = loans[target_col]"
   ]
  },
  {
   "cell_type": "code",
   "execution_count": 12,
   "metadata": {},
   "outputs": [],
   "source": [
    "# dummify\n",
    "target = loans['paid_flag']\n",
    "loans = loans.drop(['paid_flag'], axis=1)\n",
    "\n",
    "loans = pd.get_dummies(loans, drop_first=True)\n",
    "loans_norm = preprocessing.normalize(loans)\n",
    "\n",
    "# seprate training & test set\n",
    "X_train, X_test, Y_train, Y_test = train_test_split(loans_norm, target, shuffle=True, test_size=0.2)"
   ]
  },
  {
   "cell_type": "markdown",
   "metadata": {},
   "source": [
    "# Modeling"
   ]
  },
  {
   "cell_type": "markdown",
   "metadata": {},
   "source": [
    "### 1. Logistic Regression"
   ]
  },
  {
   "cell_type": "code",
   "execution_count": 13,
   "metadata": {},
   "outputs": [
    {
     "name": "stdout",
     "output_type": "stream",
     "text": [
      "best hyperparameter\n",
      "{'C': 10000.0, 'class_weight': None, 'dual': False, 'fit_intercept': True, 'intercept_scaling': 1, 'l1_ratio': None, 'max_iter': 100, 'multi_class': 'warn', 'n_jobs': None, 'penalty': 'l1', 'random_state': None, 'solver': 'liblinear', 'tol': 0.0001, 'verbose': 0, 'warm_start': False}\n",
      "\n",
      "best cross-validation score: 0.9924375\n",
      "\n",
      "Root Mean Square Error: 0.088175960442742\n",
      "\n",
      "Accuracy: 0.992225\n",
      "\n",
      "[[18180   275]\n",
      " [   36 21509]]\n"
     ]
    }
   ],
   "source": [
    "logit = linear_model.LogisticRegression(solver='liblinear')\n",
    "\n",
    "param = dict(C=np.logspace(0, 4, 10), penalty=['l1', 'l2'])\n",
    "\n",
    "logit_grid = GridSearchCV(logit, param, cv=5, verbose=0)\n",
    "\n",
    "best_mdl = logit_grid.fit(X_train, Y_train)\n",
    "\n",
    "# best hyperparameter\n",
    "print('best hyperparameter')\n",
    "print(best_mdl.best_estimator_.get_params())\n",
    "print()\n",
    "\n",
    "# best cross-validation score\n",
    "print('best cross-validation score: ' + str(best_mdl.score(X_train, Y_train)))\n",
    "print()\n",
    "\n",
    "Y_pred = logit_grid.predict(X_test)\n",
    "\n",
    "rmse = sqrt(mean_squared_error(Y_test, Y_pred))\n",
    "\n",
    "print('Root Mean Square Error: ' + str(rmse))\n",
    "print()\n",
    "\n",
    "print('Accuracy: ' + str(np.mean(Y_test == Y_pred)))\n",
    "print()\n",
    "\n",
    "print(confusion_matrix(Y_test, Y_pred))"
   ]
  },
  {
   "cell_type": "code",
   "execution_count": 14,
   "metadata": {},
   "outputs": [
    {
     "data": {
      "text/plain": [
       "<matplotlib.legend.Legend at 0x1a2c7fa828>"
      ]
     },
     "execution_count": 14,
     "metadata": {},
     "output_type": "execute_result"
    },
    {
     "data": {
      "image/png": "[encoded data removed]",
      "text/plain": [
       "<Figure size 432x288 with 1 Axes>"
      ]
     },
     "metadata": {
      "needs_background": "light"
     },
     "output_type": "display_data"
    }
   ],
   "source": [
    "# visualize ROC Curve\n",
    "fpr, tpr, thresholds = roc_curve(Y_test, Y_pred)\n",
    "\n",
    "plt.plot(fpr, tpr, label='ROC curve')\n",
    "plt.plot([0, 1], [0, 1], 'k--', label='Random Guess')\n",
    "plt.xlabel('False Positive Rate')\n",
    "plt.ylabel('True Positive Rate')\n",
    "plt.title('ROC Curve')\n",
    "plt.xlim([-0.02, 1])\n",
    "plt.ylim([0, 1.02])\n",
    "plt.legend(loc='lower right')"
   ]
  },
  {
   "cell_type": "markdown",
   "metadata": {},
   "source": [
    "### 2. Support Vector Classification"
   ]
  },
  {
   "cell_type": "code",
   "execution_count": null,
   "metadata": {},
   "outputs": [],
   "source": [
    "svc_mdl = SVC(gamma='scale')\n",
    "\n",
    "#param = dict(kernel=['rbf'])\n",
    "\n",
    "#svc_grid = GridSearchCV(svc_mdl, param, cv=5, verbose=0)\n",
    "\n",
    "best_mdl = svc_mdl.fit(X_train, Y_train)\n",
    "\n",
    "# best hyperparameter\n",
    "print('best hyperparameter')\n",
    "print(best_mdl.best_estimator_.get_params())\n",
    "print()\n",
    "\n",
    "# best cross-validation score\n",
    "print('best cross-validation score: ' + str(best_mdl.score(X_train, Y_train)))\n",
    "print()\n",
    "\n",
    "Y_pred = svc_grid.predict(X_test)\n",
    "\n",
    "rmse = sqrt(mean_squared_error(Y_test, Y_pred))\n",
    "\n",
    "print('Root Mean Square Error: ' + str(rmse))\n",
    "print()\n",
    "\n",
    "print('Accuracy: ' + str(np.mean(Y_test == Y_pred)))\n",
    "print()\n",
    "\n",
    "print(confusion_matrix(Y_test, Y_pred))"
   ]
  },
  {
   "cell_type": "markdown",
   "metadata": {},
   "source": [
    "### 3. XGBoost"
   ]
  },
  {
   "cell_type": "code",
   "execution_count": 12,
   "metadata": {},
   "outputs": [
    {
     "name": "stdout",
     "output_type": "stream",
     "text": [
      "best hyperparameter\n",
      "{'base_score': 0.5, 'booster': 'gbtree', 'colsample_bylevel': 1, 'colsample_bynode': 1, 'colsample_bytree': 1, 'gamma': 0, 'learning_rate': 0.1, 'max_delta_step': 0, 'max_depth': 6, 'min_child_weight': 1, 'missing': None, 'n_estimators': 100, 'n_jobs': 1, 'nthread': None, 'objective': 'binary:logistic', 'random_state': 0, 'reg_alpha': 0, 'reg_lambda': 1, 'scale_pos_weight': 1, 'seed': None, 'silent': None, 'subsample': 1, 'verbosity': 1}\n",
      "\n",
      "best cross-validation score: 0.99605625\n",
      "\n",
      "Root Mean Square Error: 0.07681145747868608\n",
      "\n",
      "Accuracy: 0.9941\n",
      "\n",
      "[[18360   232]\n",
      " [    4 21404]]\n"
     ]
    }
   ],
   "source": [
    "xgb_mdl = xgb.XGBClassifier()\n",
    "\n",
    "param = dict(max_depth=[3,6])\n",
    "\n",
    "xgb_grid = GridSearchCV(xgb_mdl, param, n_jobs=5, cv=5, verbose=0)\n",
    "\n",
    "best_mdl = xgb_grid.fit(X_train, Y_train)\n",
    "\n",
    "# best hyperparameter\n",
    "print('best hyperparameter')\n",
    "print(best_mdl.best_estimator_.get_params())\n",
    "print()\n",
    "\n",
    "# best cross-validation score\n",
    "print('best cross-validation score: ' + str(best_mdl.score(X_train, Y_train)))\n",
    "print()\n",
    "\n",
    "Y_pred = xgb_grid.predict(X_test)\n",
    "\n",
    "rmse = sqrt(mean_squared_error(Y_test, Y_pred))\n",
    "\n",
    "print('Root Mean Square Error: ' + str(rmse))\n",
    "print()\n",
    "\n",
    "print('Accuracy: ' + str(np.mean(Y_test == Y_pred)))\n",
    "print()\n",
    "\n",
    "print(confusion_matrix(Y_test, Y_pred))"
   ]
  },
  {
   "cell_type": "markdown",
   "metadata": {},
   "source": [
    "### 4. Random Forest"
   ]
  },
  {
   "cell_type": "code",
   "execution_count": 9,
   "metadata": {},
   "outputs": [
    {
     "name": "stdout",
     "output_type": "stream",
     "text": [
      "best hyperparameter\n",
      "{'bootstrap': True, 'class_weight': None, 'criterion': 'gini', 'max_depth': None, 'max_features': 'auto', 'max_leaf_nodes': None, 'min_impurity_decrease': 0.0, 'min_impurity_split': None, 'min_samples_leaf': 1, 'min_samples_split': 2, 'min_weight_fraction_leaf': 0.0, 'n_estimators': 100, 'n_jobs': None, 'oob_score': False, 'random_state': None, 'verbose': 0, 'warm_start': False}\n",
      "\n",
      "best cross-validation score: 1.0\n",
      "\n",
      "Root Mean Square Error: 0.11789826122551596\n",
      "\n",
      "Accuracy: 0.9861\n",
      "\n",
      "[[18066   474]\n",
      " [   82 21378]]\n"
     ]
    }
   ],
   "source": [
    "rf_mdl = RandomForestClassifier()\n",
    "param = { \n",
    "    'n_estimators': [100],\n",
    "    'criterion' :['gini', 'entropy']\n",
    "}\n",
    "\n",
    "rf_grid = GridSearchCV(rf_mdl, param, cv= 5, verbose=0)\n",
    "\n",
    "best_mdl = rf_grid.fit(X_train, Y_train)\n",
    "\n",
    "# best hyperparameter\n",
    "print('best hyperparameter')\n",
    "print(best_mdl.best_estimator_.get_params())\n",
    "print()\n",
    "\n",
    "# best cross-validation score\n",
    "print('best cross-validation score: ' + str(best_mdl.score(X_train, Y_train)))\n",
    "print()\n",
    "\n",
    "Y_pred = rf_grid.predict(X_test)\n",
    "\n",
    "rmse = sqrt(mean_squared_error(Y_test, Y_pred))\n",
    "\n",
    "print('Root Mean Square Error: ' + str(rmse))\n",
    "print()\n",
    "\n",
    "print('Accuracy: ' + str(np.mean(Y_test == Y_pred)))\n",
    "print()\n",
    "\n",
    "print(confusion_matrix(Y_test, Y_pred))"
   ]
  },
  {
   "cell_type": "markdown",
   "metadata": {},
   "source": [
    "### 5. Tensorflow"
   ]
  },
  {
   "cell_type": "code",
   "execution_count": 15,
   "metadata": {},
   "outputs": [],
   "source": [
    "import tensorflow as tf"
   ]
  },
  {
   "cell_type": "code",
   "execution_count": 18,
   "metadata": {},
   "outputs": [],
   "source": [
    "tf.reset_default_graph()\n",
    "\n",
    "dimension = X_train.shape[1]\n",
    "\n",
    "X = tf.placeholder(dtype=tf.float32, shape=[None, dimension])\n",
    "Y = tf.placeholder(dtype=tf.float32, shape=[None, 1])\n",
    "W = tf.Variable(tf.random_normal(shape=[dimension, 1]), dtype=tf.float32)\n",
    "b = tf.Variable(tf.random_normal(shape=[1, 1]), dtype=tf.float32)\n",
    "\n",
    "mod = tf.matmul(X, W) + b\n",
    "\n",
    "loss = tf.reduce_mean(tf.nn.sigmoid_cross_entropy_with_logits(logits=mod, labels=Y))\n",
    "opt = tf.train.GradientDescentOptimizer(learning_rate=0.5)\n",
    "goal = opt.minimize(loss)\n",
    "\n",
    "prediction = tf.round(tf.sigmoid(mod))\n",
    "correct = tf.cast(tf.equal(prediction, Y), dtype=tf.float32)\n",
    "accuracy = tf.reduce_mean(correct)"
   ]
  },
  {
   "cell_type": "code",
   "execution_count": 19,
   "metadata": {},
   "outputs": [
    {
     "name": "stdout",
     "output_type": "stream",
     "text": [
      "epoch:  500 loss: 0.644035 train_acc: 0.656062 test_acc: 0.652450\n",
      "epoch: 1000 loss: 0.606850 train_acc: 0.701525 test_acc: 0.697575\n",
      "epoch: 1500 loss: 0.565960 train_acc: 0.719938 test_acc: 0.717650\n",
      "epoch: 2000 loss: 0.546686 train_acc: 0.736631 test_acc: 0.734775\n",
      "epoch: 2500 loss: 0.559532 train_acc: 0.744931 test_acc: 0.742950\n",
      "epoch: 3000 loss: 0.527966 train_acc: 0.749394 test_acc: 0.747825\n",
      "epoch: 3500 loss: 0.485746 train_acc: 0.758281 test_acc: 0.756425\n",
      "epoch: 4000 loss: 0.499242 train_acc: 0.765194 test_acc: 0.763200\n",
      "epoch: 4500 loss: 0.519927 train_acc: 0.774069 test_acc: 0.773050\n",
      "epoch: 5000 loss: 0.519422 train_acc: 0.779544 test_acc: 0.778150\n",
      "epoch: 5500 loss: 0.492254 train_acc: 0.783612 test_acc: 0.782600\n",
      "epoch: 6000 loss: 0.478954 train_acc: 0.790425 test_acc: 0.789525\n",
      "epoch: 6500 loss: 0.492585 train_acc: 0.787531 test_acc: 0.786500\n",
      "epoch: 7000 loss: 0.491308 train_acc: 0.792156 test_acc: 0.791150\n",
      "epoch: 7500 loss: 0.442697 train_acc: 0.799069 test_acc: 0.798750\n",
      "epoch: 8000 loss: 0.451156 train_acc: 0.803913 test_acc: 0.803425\n",
      "epoch: 8500 loss: 0.460003 train_acc: 0.805894 test_acc: 0.805525\n",
      "epoch: 9000 loss: 0.474846 train_acc: 0.809994 test_acc: 0.809500\n",
      "epoch: 9500 loss: 0.467206 train_acc: 0.811000 test_acc: 0.809800\n",
      "epoch: 10000 loss: 0.435553 train_acc: 0.812244 test_acc: 0.810775\n",
      "epoch: 10500 loss: 0.460268 train_acc: 0.815981 test_acc: 0.815075\n",
      "epoch: 11000 loss: 0.450337 train_acc: 0.820506 test_acc: 0.820275\n",
      "epoch: 11500 loss: 0.466782 train_acc: 0.823937 test_acc: 0.824350\n",
      "epoch: 12000 loss: 0.441835 train_acc: 0.827719 test_acc: 0.827850\n",
      "epoch: 12500 loss: 0.432091 train_acc: 0.825437 test_acc: 0.825050\n",
      "epoch: 13000 loss: 0.429213 train_acc: 0.832756 test_acc: 0.832475\n",
      "epoch: 13500 loss: 0.432189 train_acc: 0.833519 test_acc: 0.833350\n",
      "epoch: 14000 loss: 0.427761 train_acc: 0.833000 test_acc: 0.832800\n",
      "epoch: 14500 loss: 0.429529 train_acc: 0.838525 test_acc: 0.837725\n",
      "epoch: 15000 loss: 0.417415 train_acc: 0.839725 test_acc: 0.839175\n",
      "epoch: 15500 loss: 0.436042 train_acc: 0.842631 test_acc: 0.841650\n",
      "epoch: 16000 loss: 0.439603 train_acc: 0.844569 test_acc: 0.843825\n",
      "epoch: 16500 loss: 0.394917 train_acc: 0.846412 test_acc: 0.845800\n",
      "epoch: 17000 loss: 0.388013 train_acc: 0.847663 test_acc: 0.846900\n",
      "epoch: 17500 loss: 0.427759 train_acc: 0.849019 test_acc: 0.848250\n",
      "epoch: 18000 loss: 0.402473 train_acc: 0.852294 test_acc: 0.850650\n",
      "epoch: 18500 loss: 0.408558 train_acc: 0.852250 test_acc: 0.851475\n",
      "epoch: 19000 loss: 0.399179 train_acc: 0.854288 test_acc: 0.853650\n",
      "epoch: 19500 loss: 0.390253 train_acc: 0.855069 test_acc: 0.854200\n",
      "epoch: 20000 loss: 0.375716 train_acc: 0.856581 test_acc: 0.855575\n"
     ]
    }
   ],
   "source": [
    "loss_trace = []\n",
    "train_acc = []\n",
    "test_acc = []\n",
    "\n",
    "batch_size = 500\n",
    "iter_num = 20000\n",
    "\n",
    "init = tf.global_variables_initializer()\n",
    "\n",
    "Y_train = Y_train.reset_index(drop=True)\n",
    "\n",
    "with tf.Session() as sess:\n",
    "    init.run()\n",
    "    for epoch in range(iter_num):\n",
    "        batch_index = np.random.choice(len(X_train), size=batch_size)\n",
    "\n",
    "        batch_train_X = X_train[batch_index]\n",
    "        batch_train_y = np.matrix(Y_train[batch_index]).T\n",
    "        \n",
    "        sess.run(goal, feed_dict={X: batch_train_X, Y: batch_train_y})\n",
    "        temp_loss = sess.run(loss, feed_dict={X: batch_train_X, Y: batch_train_y})\n",
    "\n",
    "        temp_train_acc = sess.run(accuracy, feed_dict={X: X_train, Y: np.matrix(Y_train).T})\n",
    "        temp_test_acc = sess.run(accuracy, feed_dict={X: X_test, Y: np.matrix(Y_test).T})\n",
    "\n",
    "        loss_trace.append(temp_loss)\n",
    "        train_acc.append(temp_train_acc)\n",
    "        test_acc.append(temp_test_acc)\n",
    "\n",
    "        if (epoch + 1) % 500 == 0:\n",
    "            print('epoch: {:4d} loss: {:5f} train_acc: {:5f} test_acc: {:5f}'.format(epoch + 1, temp_loss, temp_train_acc, temp_test_acc))"
   ]
  }
 ],
 "metadata": {
  "kernelspec": {
   "display_name": "Python 3",
   "language": "python",
   "name": "python3"
  },
  "language_info": {
   "codemirror_mode": {
    "name": "ipython",
    "version": 3
   },
   "file_extension": ".py",
   "mimetype": "text/x-python",
   "name": "python",
   "nbconvert_exporter": "python",
   "pygments_lexer": "ipython3",
   "version": "3.7.3"
  }
 },
 "nbformat": 4,
 "nbformat_minor": 2
}
