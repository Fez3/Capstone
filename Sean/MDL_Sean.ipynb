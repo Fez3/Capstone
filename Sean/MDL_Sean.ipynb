{
 "cells": [
  {
   "cell_type": "markdown",
   "metadata": {},
   "source": [
    "# Feature Engineering"
   ]
  },
  {
   "cell_type": "code",
   "execution_count": 1,
   "metadata": {},
   "outputs": [],
   "source": [
    "import pandas as pd\n",
    "import numpy as np\n",
    "\n",
    "from pandas.api.types import is_numeric_dtype\n",
    "from sklearn.model_selection import GridSearchCV\n",
    "from sklearn.model_selection import train_test_split\n",
    "from sklearn import preprocessing\n",
    "from sklearn import linear_model\n",
    "from sklearn.metrics import mean_squared_error\n",
    "from sklearn.metrics import confusion_matrix\n",
    "from math import sqrt\n",
    "\n",
    "import matplotlib.pyplot as plt\n",
    "%matplotlib inline"
   ]
  },
  {
   "cell_type": "code",
   "execution_count": 2,
   "metadata": {},
   "outputs": [],
   "source": [
    "# load dataframe\n",
    "# loans = pd.read_csv('./data/accepted_imputed.csv', low_memory=False)\n",
    "loans = pd.read_csv('./data/final.df.csv', low_memory=False)\n",
    "\n",
    "# loans = loans.assign(issue_d=pd.to_datetime(loans['issue_d'], format='%Y-%m-%d'))\n",
    "\n",
    "loans = loans[(loans['loan_status'] == 'Fully Paid') | (loans['loan_status'] == 'Charged Off') | (loans['loan_status'] == 'Default')]\n",
    "loans = loans.assign(paid_flag = np.where(loans['loan_status'].str.contains('Fully Paid'), 1, 0))\n",
    "\n",
    "loans = loans.drop(['loan_status', 'last_fico_range_high', 'last_fico_range_low', 'policy_code'], axis=1) # it depends on loan_status"
   ]
  },
  {
   "cell_type": "code",
   "execution_count": 3,
   "metadata": {},
   "outputs": [
    {
     "data": {
      "text/plain": [
       "1    107725\n",
       "0     92275\n",
       "Name: paid_flag, dtype: int64"
      ]
     },
     "execution_count": 3,
     "metadata": {},
     "output_type": "execute_result"
    }
   ],
   "source": [
    "# under sampling\n",
    "# loans_paid = loans[loans['paid_flag'] == 1].sample(int(len(loans) * 0.2))\n",
    "# loans_default = loans[loans['paid_flag'] == 0]\n",
    "\n",
    "# loans = pd.concat([loans_paid, loans_default])\n",
    "loans['paid_flag'].value_counts()"
   ]
  },
  {
   "cell_type": "code",
   "execution_count": 4,
   "metadata": {},
   "outputs": [],
   "source": [
    "# select only numeric variables\n",
    "target_col = []\n",
    "col_null_cnt = loans.isnull().sum().sort_values(ascending=False)\n",
    "for k, v in col_null_cnt.iteritems():\n",
    "    if v == 0:\n",
    "        if is_numeric_dtype(loans[k].dtype) and k != 'paid_flag':\n",
    "            target_col = target_col + [k]\n",
    "\n",
    "target = loans['paid_flag']\n",
    "# loans = loans[target_col]"
   ]
  },
  {
   "cell_type": "code",
   "execution_count": 5,
   "metadata": {},
   "outputs": [],
   "source": [
    "# dummify\n",
    "loans = pd.get_dummies(loans, drop_first=True)"
   ]
  },
  {
   "cell_type": "markdown",
   "metadata": {},
   "source": [
    "# Modeling"
   ]
  },
  {
   "cell_type": "markdown",
   "metadata": {},
   "source": [
    "### 1. Logistic Regression"
   ]
  },
  {
   "cell_type": "code",
   "execution_count": 6,
   "metadata": {},
   "outputs": [
    {
     "name": "stdout",
     "output_type": "stream",
     "text": [
      "best hyperparameter\n",
      "C: 3593.813663804626\n",
      "penalty: l1\n",
      "\n",
      "best cross-validation score: 0.9955\n"
     ]
    }
   ],
   "source": [
    "# seprate training & test set        \n",
    "X_train, X_test, Y_train, Y_test = train_test_split(preprocessing.normalize(loans), target, shuffle=True, test_size=0.2)\n",
    "\n",
    "logit = linear_model.LogisticRegression(solver='liblinear')\n",
    "\n",
    "param = dict(C=np.logspace(0, 4, 10), penalty=['l1', 'l2'])\n",
    "\n",
    "logit_grid = GridSearchCV(logit, param, cv=5, verbose=0)\n",
    "\n",
    "best_mdl = logit_grid.fit(X_train, Y_train)\n",
    "\n",
    "# best hyperparameter\n",
    "print('best hyperparameter')\n",
    "print('C: ' + str(best_mdl.best_estimator_.get_params()['C']))\n",
    "print('penalty: ' + best_mdl.best_estimator_.get_params()['penalty'])\n",
    "print()\n",
    "\n",
    "# best cross-validation score\n",
    "print('best cross-validation score: ' + str(best_mdl.score(X_train, Y_train)))\n",
    "\n",
    "Y_pred = logit_grid.predict(X_test)"
   ]
  },
  {
   "cell_type": "code",
   "execution_count": 7,
   "metadata": {},
   "outputs": [
    {
     "name": "stdout",
     "output_type": "stream",
     "text": [
      "Root Mean Square Error: 0.06726812023536856\n",
      "\n",
      "Accuracy: 0.995475\n",
      "\n",
      "[[18226   145]\n",
      " [   36 21593]]\n"
     ]
    }
   ],
   "source": [
    "rmse = sqrt(mean_squared_error(Y_test, Y_pred))\n",
    "\n",
    "print('Root Mean Square Error: ' + str(rmse))\n",
    "print()\n",
    "\n",
    "print('Accuracy: ' + str(np.mean(Y_test == Y_pred)))\n",
    "print()\n",
    "\n",
    "print(confusion_matrix(Y_test, Y_pred))"
   ]
  },
  {
   "cell_type": "code",
   "execution_count": 8,
   "metadata": {},
   "outputs": [
    {
     "data": {
      "text/plain": [
       "<matplotlib.legend.Legend at 0x1a1c5b8630>"
      ]
     },
     "execution_count": 8,
     "metadata": {},
     "output_type": "execute_result"
    },
    {
     "data": {
      "image/png": "[encoded data removed]",
      "text/plain": [
       "<Figure size 432x288 with 1 Axes>"
      ]
     },
     "metadata": {
      "needs_background": "light"
     },
     "output_type": "display_data"
    }
   ],
   "source": [
    "from sklearn.metrics import roc_curve\n",
    "\n",
    "fpr, tpr, thresholds = roc_curve(Y_test, Y_pred)\n",
    "\n",
    "# create plot\n",
    "plt.plot(fpr, tpr, label='ROC curve')\n",
    "plt.plot([0, 1], [0, 1], 'k--', label='Random Guess')\n",
    "plt.xlabel('False Positive Rate')\n",
    "plt.ylabel('True Positive Rate')\n",
    "plt.title('ROC Curve')\n",
    "plt.xlim([-0.02, 1])\n",
    "plt.ylim([0, 1.02])\n",
    "plt.legend(loc='lower right')"
   ]
  }
 ],
 "metadata": {
  "kernelspec": {
   "display_name": "Python 3",
   "language": "python",
   "name": "python3"
  },
  "language_info": {
   "codemirror_mode": {
    "name": "ipython",
    "version": 3
   },
   "file_extension": ".py",
   "mimetype": "text/x-python",
   "name": "python",
   "nbconvert_exporter": "python",
   "pygments_lexer": "ipython3",
   "version": "3.7.3"
  }
 },
 "nbformat": 4,
 "nbformat_minor": 2
}
