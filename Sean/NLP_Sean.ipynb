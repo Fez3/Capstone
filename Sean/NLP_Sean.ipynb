{
 "cells": [
  {
   "cell_type": "markdown",
   "metadata": {},
   "source": [
    "# NLP for Loan Description"
   ]
  },
  {
   "cell_type": "code",
   "execution_count": 1,
   "metadata": {},
   "outputs": [],
   "source": [
    "import pandas as pd\n",
    "import numpy as np\n",
    "\n",
    "from sklearn.model_selection import train_test_split\n",
    "from sklearn.feature_extraction.text import TfidfVectorizer\n",
    "from sklearn.naive_bayes import MultinomialNB\n",
    "from sklearn.model_selection import GridSearchCV\n",
    "from sklearn.metrics import confusion_matrix"
   ]
  },
  {
   "cell_type": "code",
   "execution_count": 2,
   "metadata": {},
   "outputs": [],
   "source": [
    "# Load desc\n",
    "accepted = pd.read_csv('./data/desc.csv', low_memory=False)"
   ]
  },
  {
   "cell_type": "code",
   "execution_count": 3,
   "metadata": {},
   "outputs": [
    {
     "data": {
      "text/html": [
       "<div>\n",
       "<style scoped>\n",
       "    .dataframe tbody tr th:only-of-type {\n",
       "        vertical-align: middle;\n",
       "    }\n",
       "\n",
       "    .dataframe tbody tr th {\n",
       "        vertical-align: top;\n",
       "    }\n",
       "\n",
       "    .dataframe thead th {\n",
       "        text-align: right;\n",
       "    }\n",
       "</style>\n",
       "<table border=\"1\" class=\"dataframe\">\n",
       "  <thead>\n",
       "    <tr style=\"text-align: right;\">\n",
       "      <th></th>\n",
       "      <th>loan_status</th>\n",
       "      <th>desc</th>\n",
       "      <th>fully_paid</th>\n",
       "    </tr>\n",
       "  </thead>\n",
       "  <tbody>\n",
       "    <tr>\n",
       "      <th>1480</th>\n",
       "      <td>Fully Paid</td>\n",
       "      <td>We knew that using our credit cards to finance an adoption would squeeze us, but then medical and other unexpected expenses made the situation almost impossible. We are a stable family in a stable...</td>\n",
       "      <td>1</td>\n",
       "    </tr>\n",
       "    <tr>\n",
       "      <th>33065</th>\n",
       "      <td>Fully Paid</td>\n",
       "      <td>I had a bad year two years ago, with some late and missed payments. I'm doing much better now, but I've got fees and some higher interest bits that have added up on top of the other stuff, and it'...</td>\n",
       "      <td>1</td>\n",
       "    </tr>\n",
       "    <tr>\n",
       "      <th>37860</th>\n",
       "      <td>Fully Paid</td>\n",
       "      <td>Lenders, I have the ability to pay off my current debt but, would like the ability to be able to put some extra money off to the side and build my personal savings account. The lower interest rate...</td>\n",
       "      <td>1</td>\n",
       "    </tr>\n",
       "    <tr>\n",
       "      <th>50494</th>\n",
       "      <td>Fully Paid</td>\n",
       "      <td>I paid off my first Prosper loan, but had an emergency and took out a second Prosper loan, but at a very high interest rate - and I would like the opportunity to get the interest rate lowered. Thi...</td>\n",
       "      <td>1</td>\n",
       "    </tr>\n",
       "    <tr>\n",
       "      <th>68327</th>\n",
       "      <td>Fully Paid</td>\n",
       "      <td>I want to cut down on my credit card debt now (while they are not wildly out of control) by consolidating them all in one so I can make regular payments to one single source rather than keeping on...</td>\n",
       "      <td>1</td>\n",
       "    </tr>\n",
       "    <tr>\n",
       "      <th>73176</th>\n",
       "      <td>Fully Paid</td>\n",
       "      <td>i recently proposed to my girlfriend of almost 8 yrs now and everything was going well untill our pug (ody) the middle of my three dogs started limping around and stumbling all the time. well come...</td>\n",
       "      <td>1</td>\n",
       "    </tr>\n",
       "    <tr>\n",
       "      <th>122447</th>\n",
       "      <td>Fully Paid</td>\n",
       "      <td>I would like to consolidate my loan in one small monthly payment w/a low interest rate. All my credit has a very high interest rate. Please advise and let me know if i will be qualified.</td>\n",
       "      <td>1</td>\n",
       "    </tr>\n",
       "    <tr>\n",
       "      <th>165720</th>\n",
       "      <td>Fully Paid</td>\n",
       "      <td>I have excellent credit and I need to reduce my credit card debt at a lower interest rate.</td>\n",
       "      <td>1</td>\n",
       "    </tr>\n",
       "    <tr>\n",
       "      <th>185278</th>\n",
       "      <td>Fully Paid</td>\n",
       "      <td>I have been in business for a year and want to eliminate some personal debt and use the remainder of the loan to take care of business expenses. Also lessening the number of trade lines I have ope...</td>\n",
       "      <td>1</td>\n",
       "    </tr>\n",
       "    <tr>\n",
       "      <th>245825</th>\n",
       "      <td>Fully Paid</td>\n",
       "      <td>I am building a new garage on a property that i ocupy as my primary residence. I just purchased the propery in June 2007 and my bank will only offer a peronnal loan a a ridculus high interst rate ...</td>\n",
       "      <td>1</td>\n",
       "    </tr>\n",
       "  </tbody>\n",
       "</table>\n",
       "</div>"
      ],
      "text/plain": [
       "       loan_status  \\\n",
       "1480    Fully Paid   \n",
       "33065   Fully Paid   \n",
       "37860   Fully Paid   \n",
       "50494   Fully Paid   \n",
       "68327   Fully Paid   \n",
       "73176   Fully Paid   \n",
       "122447  Fully Paid   \n",
       "165720  Fully Paid   \n",
       "185278  Fully Paid   \n",
       "245825  Fully Paid   \n",
       "\n",
       "                                                                                                                                                                                                           desc  \\\n",
       "1480    We knew that using our credit cards to finance an adoption would squeeze us, but then medical and other unexpected expenses made the situation almost impossible. We are a stable family in a stable...   \n",
       "33065   I had a bad year two years ago, with some late and missed payments. I'm doing much better now, but I've got fees and some higher interest bits that have added up on top of the other stuff, and it'...   \n",
       "37860   Lenders, I have the ability to pay off my current debt but, would like the ability to be able to put some extra money off to the side and build my personal savings account. The lower interest rate...   \n",
       "50494   I paid off my first Prosper loan, but had an emergency and took out a second Prosper loan, but at a very high interest rate - and I would like the opportunity to get the interest rate lowered. Thi...   \n",
       "68327   I want to cut down on my credit card debt now (while they are not wildly out of control) by consolidating them all in one so I can make regular payments to one single source rather than keeping on...   \n",
       "73176   i recently proposed to my girlfriend of almost 8 yrs now and everything was going well untill our pug (ody) the middle of my three dogs started limping around and stumbling all the time. well come...   \n",
       "122447               I would like to consolidate my loan in one small monthly payment w/a low interest rate. All my credit has a very high interest rate. Please advise and let me know if i will be qualified.   \n",
       "165720                                                                                                               I have excellent credit and I need to reduce my credit card debt at a lower interest rate.   \n",
       "185278  I have been in business for a year and want to eliminate some personal debt and use the remainder of the loan to take care of business expenses. Also lessening the number of trade lines I have ope...   \n",
       "245825  I am building a new garage on a property that i ocupy as my primary residence. I just purchased the propery in June 2007 and my bank will only offer a peronnal loan a a ridculus high interst rate ...   \n",
       "\n",
       "        fully_paid  \n",
       "1480             1  \n",
       "33065            1  \n",
       "37860            1  \n",
       "50494            1  \n",
       "68327            1  \n",
       "73176            1  \n",
       "122447           1  \n",
       "165720           1  \n",
       "185278           1  \n",
       "245825           1  "
      ]
     },
     "execution_count": 3,
     "metadata": {},
     "output_type": "execute_result"
    }
   ],
   "source": [
    "# Preprocessing for NLP\n",
    "pd.set_option('display.max_columns', 200)\n",
    "pd.set_option('max_colwidth', 200)\n",
    "\n",
    "desc = accepted[~accepted['desc'].isnull()][['loan_status', 'desc']]\n",
    "desc['desc'] = desc['desc'].str.replace('<br>', ' ')\n",
    "desc['desc'] = desc['desc'].str.replace('<br/>', ' ')\n",
    "desc['desc'] = desc['desc'].str.replace('\"', ' ')\n",
    "desc['desc'] = desc['desc'].str.replace('\\t|\\n', ' ')\n",
    "desc['desc'] = desc['desc'].str.replace('Borrower added on \\d+\\/\\d+\\/\\d+ >', ' ')\n",
    "desc['desc'] = desc['desc'].str.replace(' +', ' ')\n",
    "desc['desc'] = desc['desc'].str.strip()\n",
    "desc = desc[desc['desc'] != '']\n",
    "desc = desc[desc['loan_status'] != 'Current'] # remove 'Current' because this is not final status.\n",
    "\n",
    "desc = desc[(desc['loan_status'] == 'Fully Paid') | (desc['loan_status'] == 'Charged Off') | (desc['loan_status'] == 'Default')]\n",
    "desc = desc.assign(fully_paid = np.where(desc['loan_status'].str.contains('Fully Paid'), 1, 0))\n",
    "desc.head(10)"
   ]
  },
  {
   "cell_type": "code",
   "execution_count": 4,
   "metadata": {},
   "outputs": [
    {
     "data": {
      "text/plain": [
       "1    104390\n",
       "0     18904\n",
       "Name: fully_paid, dtype: int64"
      ]
     },
     "execution_count": 4,
     "metadata": {},
     "output_type": "execute_result"
    }
   ],
   "source": [
    "desc['fully_paid'].value_counts() # imbalance (need under or over sampling)"
   ]
  },
  {
   "cell_type": "code",
   "execution_count": 5,
   "metadata": {},
   "outputs": [
    {
     "data": {
      "text/plain": [
       "1    18904\n",
       "0    18904\n",
       "Name: fully_paid, dtype: int64"
      ]
     },
     "execution_count": 5,
     "metadata": {},
     "output_type": "execute_result"
    }
   ],
   "source": [
    "# under sampling\n",
    "sample = desc[desc['fully_paid'] > 0].sample(len(desc[desc['fully_paid'] == 0]), replace=False)\n",
    "sample = sample.append(desc[desc['fully_paid'] == 0])\n",
    "sample['fully_paid'].value_counts()"
   ]
  },
  {
   "cell_type": "code",
   "execution_count": 6,
   "metadata": {},
   "outputs": [
    {
     "name": "stdout",
     "output_type": "stream",
     "text": [
      "{'alpha': 17.56326530612245, 'fit_prior': False}\n",
      "0.5756413647183285\n"
     ]
    }
   ],
   "source": [
    "# NLP\n",
    "X_train, X_test, Y_train, Y_test = train_test_split(sample['desc'], sample['fully_paid'], shuffle=True, test_size=0.2)\n",
    "\n",
    "grid_params = {\n",
    "    'alpha': np.linspace(0.1, 20.0, 50),\n",
    "    'fit_prior': [True, False]\n",
    "}\n",
    "\n",
    "tfidf_vec = TfidfVectorizer(min_df=10, stop_words='english',ngram_range=(1, 2))\n",
    "X_train_tfidf = tfidf_vec.fit_transform(X_train)\n",
    "X_test_tfidf = tfidf_vec.transform(X_test)\n",
    "\n",
    "text_clf = MultinomialNB()\n",
    "gs_clf_svm = GridSearchCV(text_clf, grid_params, n_jobs=-1, cv=5)\n",
    "gs_clf_svm.fit(X_train_tfidf, Y_train)\n",
    "\n",
    "print(gs_clf_svm.best_params_)\n",
    "\n",
    "pred = gs_clf_svm.predict(X_test_tfidf)\n",
    "\n",
    "# accuracy\n",
    "print(np.mean(pred == Y_test))\n",
    "\n",
    "cm = confusion_matrix(Y_test, pred)"
   ]
  },
  {
   "cell_type": "code",
   "execution_count": 8,
   "metadata": {},
   "outputs": [
    {
     "data": {
      "text/plain": [
       "<matplotlib.axes._subplots.AxesSubplot at 0x1a196de438>"
      ]
     },
     "execution_count": 8,
     "metadata": {},
     "output_type": "execute_result"
    },
    {
     "data": {
      "image/png": "[encoded data removed]",
      "text/plain": [
       "<Figure size 288x216 with 2 Axes>"
      ]
     },
     "metadata": {
      "needs_background": "light"
     },
     "output_type": "display_data"
    }
   ],
   "source": [
    "import seaborn as sns\n",
    "import matplotlib.pyplot as plt\n",
    "\n",
    "df_cm = pd.DataFrame(cm, index = [0, 1], columns = [0, 1])\n",
    "plt.figure(figsize = (4,3))\n",
    "sns.heatmap(df_cm, annot=True, fmt='d', cmap='YlGnBu')"
   ]
  },
  {
   "cell_type": "code",
   "execution_count": 9,
   "metadata": {},
   "outputs": [
    {
     "data": {
      "text/plain": [
       "<matplotlib.legend.Legend at 0x1a1bf66e10>"
      ]
     },
     "execution_count": 9,
     "metadata": {},
     "output_type": "execute_result"
    },
    {
     "data": {
      "image/png": "[encoded data removed]",
      "text/plain": [
       "<Figure size 432x288 with 1 Axes>"
      ]
     },
     "metadata": {
      "needs_background": "light"
     },
     "output_type": "display_data"
    }
   ],
   "source": [
    "from sklearn.metrics import roc_curve\n",
    "\n",
    "fpr, tpr, thresholds = roc_curve(Y_test, pred)\n",
    "\n",
    "# create plot\n",
    "plt.plot(fpr, tpr, label='ROC curve')\n",
    "plt.plot([0, 1], [0, 1], 'k--', label='Random Guess')\n",
    "plt.xlabel('False Positive Rate')\n",
    "plt.ylabel('True Positive Rate')\n",
    "plt.title('ROC Curve')\n",
    "plt.xlim([-0.02, 1])\n",
    "plt.ylim([0, 1.02])\n",
    "plt.legend(loc='lower right')"
   ]
  }
 ],
 "metadata": {
  "kernelspec": {
   "display_name": "Python 3",
   "language": "python",
   "name": "python3"
  },
  "language_info": {
   "codemirror_mode": {
    "name": "ipython",
    "version": 3
   },
   "file_extension": ".py",
   "mimetype": "text/x-python",
   "name": "python",
   "nbconvert_exporter": "python",
   "pygments_lexer": "ipython3",
   "version": "3.7.3"
  }
 },
 "nbformat": 4,
 "nbformat_minor": 2
}
